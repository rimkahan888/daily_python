{
  "nbformat": 4,
  "nbformat_minor": 0,
  "metadata": {
    "colab": {
      "provenance": [],
      "authorship_tag": "ABX9TyO4N8M+ba81EU5bXKbQdO/W",
      "include_colab_link": true
    },
    "kernelspec": {
      "name": "python3",
      "display_name": "Python 3"
    },
    "language_info": {
      "name": "python"
    }
  },
  "cells": [
    {
      "cell_type": "markdown",
      "metadata": {
        "id": "view-in-github",
        "colab_type": "text"
      },
      "source": [
        "<a href=\"https://colab.research.google.com/github/rimkahan888/daily_python/blob/main/pandas.ipynb\" target=\"_parent\"><img src=\"https://colab.research.google.com/assets/colab-badge.svg\" alt=\"Open In Colab\"/></a>"
      ]
    },
    {
      "cell_type": "code",
      "source": [
        "data = {\n",
        "    \"A\": [\"Argentina\", \"Australia\", \"Austria\", \"Belgium\", \"Brazil\", \"Canada\", \"China\", \"Colombia\",\n",
        "          \"Denmark\", \"Egypt\", \"Finland\", \"France\", \"Germany\", \"Greece\", \"India\", \"Indonesia\",\n",
        "          \"Ireland\", \"Italy\", \"Japan\", \"Malaysia\", \"Mexico\", \"Netherlands\", \"Nigeria\", \"Norway\",\n",
        "          \"Pakistan\", \"Philippines\", \"Russia\", \"South Korea\", \"Spain\", \"United States\",\n",
        "          \"Bangladesh\", \"Vietnam\", \"Turkey\", \"South Africa\", \"Thailand\", \"Ukraine\", \"Poland\", \"Saudi Arabia\",\n",
        "          \"Argentina\", \"Sweden\", \"Switzerland\", \"Belgium\", \"United Arab Emirates\", \"Taiwan\", \"Malaysia\",\n",
        "          \"Singapore\", \"Hong Kong\", \"Chile\", \"Peru\", \"New Zealand\"],\n",
        "    \"B\": [960.94, 42.39, 416.17, 338.70, 1106.02, 1016.67, 1338.81, 134.97, 635.77, 49.55,\n",
        "          331.86, 760.51, 44.67, 302.26, 976.58, 819.69, 334.56, 885.95, 1215.10, 14.72,\n",
        "          1209.70, 1048.72, 513.67, 237.44, 1436.03, 508.21, 143.66, 149.59, 1272.00, 907.57,\n",
        "          1211.66, 1095.95, 806.66, 1459.81, 570.91, 830.30, 1244.96, 929.69, 1293.25, 868.14,\n",
        "          1058.33, 73.51, 345.71, 437.64, 124.29, 353.02, 156.00, 420.57, 955.35, 550.42],\n",
        "    \"C\": [11.23, 6.44, 8.16, 28.11, 19.51, 18.35, 5.30, 21.93, 5.07, 11.51,\n",
        "          29.69, 19.27, 16.80, 20.60, 25.32, 23.32, 7.03, 1.16, 9.60, 8.18,\n",
        "          6.49, 28.30, 26.32, 9.58, 19.73, 11.99, 27.45, 13.87, 8.09, 7.55,\n",
        "          16.93, 8.03, 17.62, 26.96, 12.10, 6.74, 29.93, 15.38, 2.91, 1.60,\n",
        "          3.47, 18.90, 23.80, 12.78, 2.09, 11.57, 29.88, 15.97, 29.14, 25.85],\n",
        "    \"D\": [242619, 1971859, 9058867, 4526583, 5757197, 1921534, 4974115, 7344150, 2703446, 7662220,\n",
        "          104447, 4468934, 8448441, 3047281, 8567485, 1835277, 5057072, 8567169, 3387174, 2614217,\n",
        "          6323233, 2760343, 9099278, 8947858, 59594, 5488436, 8247443, 376765, 1926828, 6139806,\n",
        "          5209230, 4067343, 1021823, 4091154, 9568669, 1371324, 1487026, 8203566, 1211193, 8987326,\n",
        "          2159911, 2204051, 8023915, 9274173, 2820370, 4496912, 8902897, 7149076, 3603384, 9097886],\n",
        "    \"E\": [78.88, 77.25, 77.82, 69.97, 76.79, 69.34, 82.49, 71.29, 66.20, 61.60,\n",
        "          60.53, 73.85, 74.71, 60.18, 77.70, 61.47, 61.69, 60.79, 68.26, 72.85,\n",
        "          66.96, 72.14, 73.48, 78.08, 82.06, 74.41, 66.07, 71.82, 70.18, 62.36,\n",
        "          76.47, 68.86, 70.28, 81.60, 61.35, 76.34, 76.15, 61.52, 78.21, 80.01,\n",
        "          62.73, 64.79, 73.41, 63.50, 64.59, 71.57, 81.86, 61.88, 80.20, 81.40],\n",
        "    \"F\": [45.38, 75.87, 69.73, 40.81, 45.13, 81.45, 53.00, 62.35, 66.47, 87.56,\n",
        "          89.63, 49.06, 40.12, 61.47, 90.96, 83.18, 55.69, 78.31, 80.18, 83.08,\n",
        "          76.40, 66.77, 50.44, 51.97, 43.22, 80.47, 43.35, 57.25, 42.76, 66.22,\n",
        "          90.57, 69.21, 43.13, 67.93, 86.82, 43.77, 43.74, 87.40, 62.21, 91.79,\n",
        "          71.33, 71.84, 42.19, 44.51, 76.16, 71.09, 57.40, 54.34, 76.83, 57.28]\n",
        "}\n"
      ],
      "metadata": {
        "id": "5jgqcBUNkPjV"
      },
      "execution_count": 1,
      "outputs": []
    },
    {
      "cell_type": "code",
      "source": [
        "import pandas as pd\n",
        "# Create a DataFrame\n",
        "df = pd.DataFrame(data)\n",
        "\n",
        "# Display the first few rows of the DataFrame\n",
        "print(\"Initial DataFrame:\")\n",
        "print(df.head(), \"\\n\")\n",
        "\n",
        "# 1. Create a new column 'B_D_Ratio' as the ratio of column B to D\n",
        "df['B_D_Ratio'] = df['B'] / df['D']\n",
        "print(\"DataFrame with 'B_D_Ratio':\")\n",
        "print(df[['A', 'B', 'D', 'B_D_Ratio']].head(), \"\\n\")\n",
        "\n",
        "# 2. Filter rows where column B is greater than the median value of B\n",
        "median_B = df['B'].median()\n",
        "df_filtered = df[df['B'] > median_B]\n",
        "print(f\"Filtered DataFrame (B > {median_B}):\")\n",
        "print(df_filtered[['A', 'B']].reset_index(drop=True), \"\\n\")\n",
        "\n",
        "# 3. Create a new column 'Country_initial' with the first letter of the country name (column A)\n",
        "df['Country_initial'] = df['A'].str[0]\n",
        "print(\"DataFrame with 'Country_initial':\")\n",
        "print(df[['A', 'Country_initial']].head(), \"\\n\")\n",
        "\n",
        "# 4. Group by the 'Country_initial' and compute the mean of columns B and D\n",
        "grouped = df.groupby('Country_initial')[['B', 'D']].mean().reset_index()\n",
        "print(\"Grouped DataFrame (mean of B and D by Country_initial):\")\n",
        "print(grouped, \"\\n\")\n",
        "\n",
        "# 5. Sort the DataFrame by column C in descending order\n",
        "df_sorted = df.sort_values(by='C', ascending=False)\n",
        "print(\"DataFrame sorted by column C (descending):\")\n",
        "print(df_sorted[['A', 'C']].head())"
      ],
      "metadata": {
        "colab": {
          "base_uri": "https://localhost:8080/"
        },
        "id": "CJe0PUuRSKge",
        "outputId": "694a12b8-1d98-4423-9cd1-cd4f2ef440ed"
      },
      "execution_count": 3,
      "outputs": [
        {
          "output_type": "stream",
          "name": "stdout",
          "text": [
            "Initial DataFrame:\n",
            "           A        B      C        D      E      F\n",
            "0  Argentina   960.94  11.23   242619  78.88  45.38\n",
            "1  Australia    42.39   6.44  1971859  77.25  75.87\n",
            "2    Austria   416.17   8.16  9058867  77.82  69.73\n",
            "3    Belgium   338.70  28.11  4526583  69.97  40.81\n",
            "4     Brazil  1106.02  19.51  5757197  76.79  45.13 \n",
            "\n",
            "DataFrame with 'B_D_Ratio':\n",
            "           A        B        D  B_D_Ratio\n",
            "0  Argentina   960.94   242619   0.003961\n",
            "1  Australia    42.39  1971859   0.000021\n",
            "2    Austria   416.17  9058867   0.000046\n",
            "3    Belgium   338.70  4526583   0.000075\n",
            "4     Brazil  1106.02  5757197   0.000192 \n",
            "\n",
            "Filtered DataFrame (B > 698.14):\n",
            "                A        B\n",
            "0       Argentina   960.94\n",
            "1          Brazil  1106.02\n",
            "2          Canada  1016.67\n",
            "3           China  1338.81\n",
            "4          France   760.51\n",
            "5           India   976.58\n",
            "6       Indonesia   819.69\n",
            "7           Italy   885.95\n",
            "8           Japan  1215.10\n",
            "9          Mexico  1209.70\n",
            "10    Netherlands  1048.72\n",
            "11       Pakistan  1436.03\n",
            "12          Spain  1272.00\n",
            "13  United States   907.57\n",
            "14     Bangladesh  1211.66\n",
            "15        Vietnam  1095.95\n",
            "16         Turkey   806.66\n",
            "17   South Africa  1459.81\n",
            "18        Ukraine   830.30\n",
            "19         Poland  1244.96\n",
            "20   Saudi Arabia   929.69\n",
            "21      Argentina  1293.25\n",
            "22         Sweden   868.14\n",
            "23    Switzerland  1058.33\n",
            "24           Peru   955.35 \n",
            "\n",
            "DataFrame with 'Country_initial':\n",
            "           A Country_initial\n",
            "0  Argentina               A\n",
            "1  Australia               A\n",
            "2    Austria               A\n",
            "3    Belgium               B\n",
            "4     Brazil               B \n",
            "\n",
            "Grouped DataFrame (mean of B and D by Country_initial):\n",
            "   Country_initial            B             D\n",
            "0                A   678.187500  3.121134e+06\n",
            "1                B   682.472500  4.424265e+06\n",
            "2                C   727.755000  5.347219e+06\n",
            "3                D   635.770000  2.703446e+06\n",
            "4                E    49.550000  7.662220e+06\n",
            "5                F   546.185000  2.286690e+06\n",
            "6                G   173.465000  5.747861e+06\n",
            "7                H   156.000000  8.902897e+06\n",
            "8                I   754.195000  6.006751e+06\n",
            "9                J  1215.100000  3.387174e+06\n",
            "10               M   449.570000  3.919273e+06\n",
            "11               N   587.562500  7.476341e+06\n",
            "12               P  1036.137500  2.659610e+06\n",
            "13               R   143.660000  8.247443e+06\n",
            "14               S   870.082857  4.320352e+06\n",
            "15               T   605.070000  6.621555e+06\n",
            "16               U   694.526667  5.178348e+06\n",
            "17               V  1095.950000  4.067343e+06 \n",
            "\n",
            "DataFrame sorted by column C (descending):\n",
            "              A      C\n",
            "36       Poland  29.93\n",
            "46    Hong Kong  29.88\n",
            "10      Finland  29.69\n",
            "48         Peru  29.14\n",
            "21  Netherlands  28.30\n"
          ]
        }
      ]
    },
    {
      "cell_type": "code",
      "source": [
        "import pandas as pd\n",
        "\n",
        "df=pd.DataFrame(data)\n",
        "print(df.head())\n",
        "print(df.tail())"
      ],
      "metadata": {
        "colab": {
          "base_uri": "https://localhost:8080/"
        },
        "id": "33J6cGE8kRpN",
        "outputId": "fc942716-820c-49b4-e14b-eaff51e91166"
      },
      "execution_count": null,
      "outputs": [
        {
          "output_type": "stream",
          "name": "stdout",
          "text": [
            "           A        B      C        D      E      F\n",
            "0  Argentina   960.94  11.23   242619  78.88  45.38\n",
            "1  Australia    42.39   6.44  1971859  77.25  75.87\n",
            "2    Austria   416.17   8.16  9058867  77.82  69.73\n",
            "3    Belgium   338.70  28.11  4526583  69.97  40.81\n",
            "4     Brazil  1106.02  19.51  5757197  76.79  45.13\n",
            "              A       B      C        D      E      F\n",
            "45    Singapore  353.02  11.57  4496912  71.57  71.09\n",
            "46    Hong Kong  156.00  29.88  8902897  81.86  57.40\n",
            "47        Chile  420.57  15.97  7149076  61.88  54.34\n",
            "48         Peru  955.35  29.14  3603384  80.20  76.83\n",
            "49  New Zealand  550.42  25.85  9097886  81.40  57.28\n"
          ]
        }
      ]
    },
    {
      "cell_type": "markdown",
      "source": [],
      "metadata": {
        "id": "w2g_ktPXkRRe"
      }
    },
    {
      "cell_type": "code",
      "source": [
        "# Group by column 'A' and calculate the mean of all numerical columns\n",
        "grouped = df.groupby('A').mean()\n",
        "print(grouped)\n"
      ],
      "metadata": {
        "colab": {
          "base_uri": "https://localhost:8080/"
        },
        "id": "NysVuOCu3BE6",
        "outputId": "9842d46f-62b1-44ec-c179-83295f6ed740"
      },
      "execution_count": null,
      "outputs": [
        {
          "output_type": "stream",
          "name": "stdout",
          "text": [
            "                             B       C          D       E       F\n",
            "A                                                                \n",
            "Argentina             1127.095   7.070   726906.0  78.545  53.795\n",
            "Australia               42.390   6.440  1971859.0  77.250  75.870\n",
            "Austria                416.170   8.160  9058867.0  77.820  69.730\n",
            "Bangladesh            1211.660  16.930  5209230.0  76.470  90.570\n",
            "Belgium                206.105  23.505  3365317.0  67.380  56.325\n",
            "Brazil                1106.020  19.510  5757197.0  76.790  45.130\n",
            "Canada                1016.670  18.350  1921534.0  69.340  81.450\n",
            "Chile                  420.570  15.970  7149076.0  61.880  54.340\n",
            "China                 1338.810   5.300  4974115.0  82.490  53.000\n",
            "Colombia               134.970  21.930  7344150.0  71.290  62.350\n",
            "Denmark                635.770   5.070  2703446.0  66.200  66.470\n",
            "Egypt                   49.550  11.510  7662220.0  61.600  87.560\n",
            "Finland                331.860  29.690   104447.0  60.530  89.630\n",
            "France                 760.510  19.270  4468934.0  73.850  49.060\n",
            "Germany                 44.670  16.800  8448441.0  74.710  40.120\n",
            "Greece                 302.260  20.600  3047281.0  60.180  61.470\n",
            "Hong Kong              156.000  29.880  8902897.0  81.860  57.400\n",
            "India                  976.580  25.320  8567485.0  77.700  90.960\n",
            "Indonesia              819.690  23.320  1835277.0  61.470  83.180\n",
            "Ireland                334.560   7.030  5057072.0  61.690  55.690\n",
            "Italy                  885.950   1.160  8567169.0  60.790  78.310\n",
            "Japan                 1215.100   9.600  3387174.0  68.260  80.180\n",
            "Malaysia                69.505   5.135  2717293.5  68.720  79.620\n",
            "Mexico                1209.700   6.490  6323233.0  66.960  76.400\n",
            "Netherlands           1048.720  28.300  2760343.0  72.140  66.770\n",
            "New Zealand            550.420  25.850  9097886.0  81.400  57.280\n",
            "Nigeria                513.670  26.320  9099278.0  73.480  50.440\n",
            "Norway                 237.440   9.580  8947858.0  78.080  51.970\n",
            "Pakistan              1436.030  19.730    59594.0  82.060  43.220\n",
            "Peru                   955.350  29.140  3603384.0  80.200  76.830\n",
            "Philippines            508.210  11.990  5488436.0  74.410  80.470\n",
            "Poland                1244.960  29.930  1487026.0  76.150  43.740\n",
            "Russia                 143.660  27.450  8247443.0  66.070  43.350\n",
            "Saudi Arabia           929.690  15.380  8203566.0  61.520  87.400\n",
            "Singapore              353.020  11.570  4496912.0  71.570  71.090\n",
            "South Africa          1459.810  26.960  4091154.0  81.600  67.930\n",
            "South Korea            149.590  13.870   376765.0  71.820  57.250\n",
            "Spain                 1272.000   8.090  1926828.0  70.180  42.760\n",
            "Sweden                 868.140   1.600  8987326.0  80.010  91.790\n",
            "Switzerland           1058.330   3.470  2159911.0  62.730  71.330\n",
            "Taiwan                 437.640  12.780  9274173.0  63.500  44.510\n",
            "Thailand               570.910  12.100  9568669.0  61.350  86.820\n",
            "Turkey                 806.660  17.620  1021823.0  70.280  43.130\n",
            "Ukraine                830.300   6.740  1371324.0  76.340  43.770\n",
            "United Arab Emirates   345.710  23.800  8023915.0  73.410  42.190\n",
            "United States          907.570   7.550  6139806.0  62.360  66.220\n",
            "Vietnam               1095.950   8.030  4067343.0  68.860  69.210\n"
          ]
        }
      ]
    },
    {
      "cell_type": "code",
      "source": [
        "print(df.A.describe())"
      ],
      "metadata": {
        "colab": {
          "base_uri": "https://localhost:8080/"
        },
        "id": "8hD4zC66pIvJ",
        "outputId": "de8b9ebb-10db-4ee9-d3c2-c1fcddfe7cd3"
      },
      "execution_count": null,
      "outputs": [
        {
          "output_type": "stream",
          "name": "stdout",
          "text": [
            "count            50\n",
            "unique           47\n",
            "top       Argentina\n",
            "freq              2\n",
            "Name: A, dtype: object\n"
          ]
        }
      ]
    },
    {
      "cell_type": "code",
      "source": [
        "print(df.info())"
      ],
      "metadata": {
        "colab": {
          "base_uri": "https://localhost:8080/"
        },
        "id": "ROBe9wdXpSPK",
        "outputId": "27e9f36c-0ccd-440d-8b0f-af0e34c1fdc0"
      },
      "execution_count": null,
      "outputs": [
        {
          "output_type": "stream",
          "name": "stdout",
          "text": [
            "<class 'pandas.core.frame.DataFrame'>\n",
            "RangeIndex: 50 entries, 0 to 49\n",
            "Data columns (total 6 columns):\n",
            " #   Column  Non-Null Count  Dtype  \n",
            "---  ------  --------------  -----  \n",
            " 0   A       50 non-null     object \n",
            " 1   B       50 non-null     float64\n",
            " 2   C       50 non-null     float64\n",
            " 3   D       50 non-null     int64  \n",
            " 4   E       50 non-null     float64\n",
            " 5   F       50 non-null     float64\n",
            "dtypes: float64(4), int64(1), object(1)\n",
            "memory usage: 2.5+ KB\n",
            "None\n"
          ]
        }
      ]
    },
    {
      "cell_type": "code",
      "source": [
        "df.columns = ['country','population','gdp','land','age','internet']\n",
        "print(df.columns)"
      ],
      "metadata": {
        "colab": {
          "base_uri": "https://localhost:8080/"
        },
        "id": "G1A2M_qstB7M",
        "outputId": "1eb8956a-4eed-44fd-81b8-732fa7c7df1e"
      },
      "execution_count": null,
      "outputs": [
        {
          "output_type": "stream",
          "name": "stdout",
          "text": [
            "Index(['country', 'population', 'gdp', 'land', 'age', 'internet'], dtype='object')\n"
          ]
        }
      ]
    },
    {
      "cell_type": "code",
      "source": [
        "print(df)"
      ],
      "metadata": {
        "colab": {
          "base_uri": "https://localhost:8080/"
        },
        "id": "xOpdzju8xD4G",
        "outputId": "86f0bff8-d1e8-4203-8e28-9ec4d2124261"
      },
      "execution_count": null,
      "outputs": [
        {
          "output_type": "stream",
          "name": "stdout",
          "text": [
            "                 country  population    gdp     land    age  internet\n",
            "0              Argentina      960.94  11.23   242619  78.88     45.38\n",
            "1              Australia       42.39   6.44  1971859  77.25     75.87\n",
            "2                Austria      416.17   8.16  9058867  77.82     69.73\n",
            "3                Belgium      338.70  28.11  4526583  69.97     40.81\n",
            "4                 Brazil     1106.02  19.51  5757197  76.79     45.13\n",
            "5                 Canada     1016.67  18.35  1921534  69.34     81.45\n",
            "6                  China     1338.81   5.30  4974115  82.49     53.00\n",
            "7               Colombia      134.97  21.93  7344150  71.29     62.35\n",
            "8                Denmark      635.77   5.07  2703446  66.20     66.47\n",
            "9                  Egypt       49.55  11.51  7662220  61.60     87.56\n",
            "10               Finland      331.86  29.69   104447  60.53     89.63\n",
            "11                France      760.51  19.27  4468934  73.85     49.06\n",
            "12               Germany       44.67  16.80  8448441  74.71     40.12\n",
            "13                Greece      302.26  20.60  3047281  60.18     61.47\n",
            "14                 India      976.58  25.32  8567485  77.70     90.96\n",
            "15             Indonesia      819.69  23.32  1835277  61.47     83.18\n",
            "16               Ireland      334.56   7.03  5057072  61.69     55.69\n",
            "17                 Italy      885.95   1.16  8567169  60.79     78.31\n",
            "18                 Japan     1215.10   9.60  3387174  68.26     80.18\n",
            "19              Malaysia       14.72   8.18  2614217  72.85     83.08\n",
            "20                Mexico     1209.70   6.49  6323233  66.96     76.40\n",
            "21           Netherlands     1048.72  28.30  2760343  72.14     66.77\n",
            "22               Nigeria      513.67  26.32  9099278  73.48     50.44\n",
            "23                Norway      237.44   9.58  8947858  78.08     51.97\n",
            "24              Pakistan     1436.03  19.73    59594  82.06     43.22\n",
            "25           Philippines      508.21  11.99  5488436  74.41     80.47\n",
            "26                Russia      143.66  27.45  8247443  66.07     43.35\n",
            "27           South Korea      149.59  13.87   376765  71.82     57.25\n",
            "28                 Spain     1272.00   8.09  1926828  70.18     42.76\n",
            "29         United States      907.57   7.55  6139806  62.36     66.22\n",
            "30            Bangladesh     1211.66  16.93  5209230  76.47     90.57\n",
            "31               Vietnam     1095.95   8.03  4067343  68.86     69.21\n",
            "32                Turkey      806.66  17.62  1021823  70.28     43.13\n",
            "33          South Africa     1459.81  26.96  4091154  81.60     67.93\n",
            "34              Thailand      570.91  12.10  9568669  61.35     86.82\n",
            "35               Ukraine      830.30   6.74  1371324  76.34     43.77\n",
            "36                Poland     1244.96  29.93  1487026  76.15     43.74\n",
            "37          Saudi Arabia      929.69  15.38  8203566  61.52     87.40\n",
            "38             Argentina     1293.25   2.91  1211193  78.21     62.21\n",
            "39                Sweden      868.14   1.60  8987326  80.01     91.79\n",
            "40           Switzerland     1058.33   3.47  2159911  62.73     71.33\n",
            "41               Belgium       73.51  18.90  2204051  64.79     71.84\n",
            "42  United Arab Emirates      345.71  23.80  8023915  73.41     42.19\n",
            "43                Taiwan      437.64  12.78  9274173  63.50     44.51\n",
            "44              Malaysia      124.29   2.09  2820370  64.59     76.16\n",
            "45             Singapore      353.02  11.57  4496912  71.57     71.09\n",
            "46             Hong Kong      156.00  29.88  8902897  81.86     57.40\n",
            "47                 Chile      420.57  15.97  7149076  61.88     54.34\n",
            "48                  Peru      955.35  29.14  3603384  80.20     76.83\n",
            "49           New Zealand      550.42  25.85  9097886  81.40     57.28\n"
          ]
        }
      ]
    },
    {
      "cell_type": "code",
      "source": [
        "df_s = df[df['country'].str.startswith('S')]\n",
        "print(df_s)"
      ],
      "metadata": {
        "colab": {
          "base_uri": "https://localhost:8080/"
        },
        "id": "RadcB9Q3sCuz",
        "outputId": "334df249-4dcf-4c43-81a3-ae8aafac9131"
      },
      "execution_count": null,
      "outputs": [
        {
          "output_type": "stream",
          "name": "stdout",
          "text": [
            "         country  population    gdp     land    age  internet\n",
            "27   South Korea      149.59  13.87   376765  71.82     57.25\n",
            "28         Spain     1272.00   8.09  1926828  70.18     42.76\n",
            "33  South Africa     1459.81  26.96  4091154  81.60     67.93\n",
            "37  Saudi Arabia      929.69  15.38  8203566  61.52     87.40\n",
            "39        Sweden      868.14   1.60  8987326  80.01     91.79\n",
            "40   Switzerland     1058.33   3.47  2159911  62.73     71.33\n",
            "45     Singapore      353.02  11.57  4496912  71.57     71.09\n"
          ]
        }
      ]
    },
    {
      "cell_type": "code",
      "source": [
        "df_a=df[df['country'].str.startswith('A')]\n",
        "print(df_a)"
      ],
      "metadata": {
        "colab": {
          "base_uri": "https://localhost:8080/"
        },
        "id": "tp9jsky4sCsO",
        "outputId": "fd1a9272-6cd0-4bfa-e9ca-2f23ecc2e715"
      },
      "execution_count": null,
      "outputs": [
        {
          "output_type": "stream",
          "name": "stdout",
          "text": [
            "      country  population    gdp     land    age  internet\n",
            "0   Argentina      960.94  11.23   242619  78.88     45.38\n",
            "1   Australia       42.39   6.44  1971859  77.25     75.87\n",
            "2     Austria      416.17   8.16  9058867  77.82     69.73\n",
            "38  Argentina     1293.25   2.91  1211193  78.21     62.21\n"
          ]
        }
      ]
    },
    {
      "cell_type": "code",
      "source": [],
      "metadata": {
        "id": "WxTPu9vfsCpo"
      },
      "execution_count": null,
      "outputs": []
    },
    {
      "cell_type": "code",
      "source": [
        "print(df.head())"
      ],
      "metadata": {
        "colab": {
          "base_uri": "https://localhost:8080/"
        },
        "id": "tJmRCDoDu-t1",
        "outputId": "885f461d-febc-420e-8070-6e287c26af97"
      },
      "execution_count": null,
      "outputs": [
        {
          "output_type": "stream",
          "name": "stdout",
          "text": [
            "     country  population    gdp     land    age  internet\n",
            "0  Argentina      960.94  11.23   242619  78.88     45.38\n",
            "1  Australia       42.39   6.44  1971859  77.25     75.87\n",
            "2    Austria      416.17   8.16  9058867  77.82     69.73\n",
            "3    Belgium      338.70  28.11  4526583  69.97     40.81\n",
            "4     Brazil     1106.02  19.51  5757197  76.79     45.13\n"
          ]
        }
      ]
    },
    {
      "cell_type": "code",
      "source": [
        "df_z=df[df['country'].str.contains('z')]\n",
        "\n",
        "print(df_z)\n"
      ],
      "metadata": {
        "colab": {
          "base_uri": "https://localhost:8080/"
        },
        "id": "3Trez4gCr7AJ",
        "outputId": "fbebeb6a-6fb6-4a7b-a418-56019d61235f"
      },
      "execution_count": null,
      "outputs": [
        {
          "output_type": "stream",
          "name": "stdout",
          "text": [
            "        country  population    gdp     land    age  internet\n",
            "4        Brazil     1106.02  19.51  5757197  76.79     45.13\n",
            "40  Switzerland     1058.33   3.47  2159911  62.73     71.33\n"
          ]
        }
      ]
    },
    {
      "cell_type": "code",
      "source": [
        "print(df.head(20))"
      ],
      "metadata": {
        "colab": {
          "base_uri": "https://localhost:8080/"
        },
        "id": "ScbJnB-Er69m",
        "outputId": "d22c916a-feb0-4230-b602-920978e8fef5"
      },
      "execution_count": null,
      "outputs": [
        {
          "output_type": "stream",
          "name": "stdout",
          "text": [
            "      country  population    gdp     land    age  internet\n",
            "0   Argentina      960.94  11.23   242619  78.88     45.38\n",
            "1   Australia       42.39   6.44  1971859  77.25     75.87\n",
            "2     Austria      416.17   8.16  9058867  77.82     69.73\n",
            "3     Belgium      338.70  28.11  4526583  69.97     40.81\n",
            "4      Brazil     1106.02  19.51  5757197  76.79     45.13\n",
            "5      Canada     1016.67  18.35  1921534  69.34     81.45\n",
            "6       China     1338.81   5.30  4974115  82.49     53.00\n",
            "7    Colombia      134.97  21.93  7344150  71.29     62.35\n",
            "8     Denmark      635.77   5.07  2703446  66.20     66.47\n",
            "9       Egypt       49.55  11.51  7662220  61.60     87.56\n",
            "10    Finland      331.86  29.69   104447  60.53     89.63\n",
            "11     France      760.51  19.27  4468934  73.85     49.06\n",
            "12    Germany       44.67  16.80  8448441  74.71     40.12\n",
            "13     Greece      302.26  20.60  3047281  60.18     61.47\n",
            "14      India      976.58  25.32  8567485  77.70     90.96\n",
            "15  Indonesia      819.69  23.32  1835277  61.47     83.18\n",
            "16    Ireland      334.56   7.03  5057072  61.69     55.69\n",
            "17      Italy      885.95   1.16  8567169  60.79     78.31\n",
            "18      Japan     1215.10   9.60  3387174  68.26     80.18\n",
            "19   Malaysia       14.72   8.18  2614217  72.85     83.08\n"
          ]
        }
      ]
    },
    {
      "cell_type": "markdown",
      "source": [],
      "metadata": {
        "id": "lmYHsTRwuwtQ"
      }
    },
    {
      "cell_type": "code",
      "source": [
        "df_1123=df[df['gdp'] == 11.23]\n",
        "print(df_1123)"
      ],
      "metadata": {
        "colab": {
          "base_uri": "https://localhost:8080/"
        },
        "id": "BbpYTBChr67M",
        "outputId": "50fdfb51-30d6-4210-8cc6-0778fd588e9a"
      },
      "execution_count": null,
      "outputs": [
        {
          "output_type": "stream",
          "name": "stdout",
          "text": [
            "     country  population    gdp    land    age  internet\n",
            "0  Argentina      960.94  11.23  242619  78.88     45.38\n"
          ]
        }
      ]
    },
    {
      "cell_type": "code",
      "source": [],
      "metadata": {
        "id": "8Iz7j1njr64v"
      },
      "execution_count": null,
      "outputs": []
    },
    {
      "cell_type": "code",
      "source": [],
      "metadata": {
        "id": "Sgt6LQpXr61q"
      },
      "execution_count": null,
      "outputs": []
    },
    {
      "cell_type": "code",
      "source": [],
      "metadata": {
        "id": "TrlnBJ5_r6zK"
      },
      "execution_count": null,
      "outputs": []
    },
    {
      "cell_type": "code",
      "source": [],
      "metadata": {
        "id": "S4oLVio0r6ue"
      },
      "execution_count": null,
      "outputs": []
    },
    {
      "cell_type": "code",
      "source": [],
      "metadata": {
        "id": "pAnHc1Amr6rc"
      },
      "execution_count": null,
      "outputs": []
    },
    {
      "cell_type": "code",
      "source": [
        "print((df[df.gdp >10]).head())"
      ],
      "metadata": {
        "colab": {
          "base_uri": "https://localhost:8080/"
        },
        "id": "qVUgTxD3wns-",
        "outputId": "b8f05651-cc68-48d2-b4e8-38b11c79fac9"
      },
      "execution_count": null,
      "outputs": [
        {
          "output_type": "stream",
          "name": "stdout",
          "text": [
            "     country  population    gdp     land    age  internet\n",
            "0  Argentina      960.94  11.23   242619  78.88     45.38\n",
            "3    Belgium      338.70  28.11  4526583  69.97     40.81\n",
            "4     Brazil     1106.02  19.51  5757197  76.79     45.13\n",
            "5     Canada     1016.67  18.35  1921534  69.34     81.45\n",
            "7   Colombia      134.97  21.93  7344150  71.29     62.35\n"
          ]
        }
      ]
    },
    {
      "cell_type": "code",
      "source": [
        "df['combined']=df['gdp'].astype(str) + ' - ' + df['land'].astype(str)\n",
        "print(df.head())"
      ],
      "metadata": {
        "colab": {
          "base_uri": "https://localhost:8080/"
        },
        "id": "5H5a5w17vXxy",
        "outputId": "8ae14091-0eb8-4c1e-a767-019456c7ad6a"
      },
      "execution_count": null,
      "outputs": [
        {
          "output_type": "stream",
          "name": "stdout",
          "text": [
            "     country  population    gdp     land    age  internet         combined\n",
            "0  Argentina      960.94  11.23   242619  78.88     45.38   11.23 - 242619\n",
            "1  Australia       42.39   6.44  1971859  77.25     75.87   6.44 - 1971859\n",
            "2    Austria      416.17   8.16  9058867  77.82     69.73   8.16 - 9058867\n",
            "3    Belgium      338.70  28.11  4526583  69.97     40.81  28.11 - 4526583\n",
            "4     Brazil     1106.02  19.51  5757197  76.79     45.13  19.51 - 5757197\n"
          ]
        }
      ]
    },
    {
      "cell_type": "code",
      "source": [
        "df2=df.drop(columns=['combined','internet'])\n",
        "print(df2.head())"
      ],
      "metadata": {
        "colab": {
          "base_uri": "https://localhost:8080/"
        },
        "id": "nhXPoqJgEtXi",
        "outputId": "72328f4b-bf94-42a6-a6d4-38a95a5c86be"
      },
      "execution_count": null,
      "outputs": [
        {
          "output_type": "stream",
          "name": "stdout",
          "text": [
            "     country  population    gdp     land    age\n",
            "0  Argentina      960.94  11.23   242619  78.88\n",
            "1  Australia       42.39   6.44  1971859  77.25\n",
            "2    Austria      416.17   8.16  9058867  77.82\n",
            "3    Belgium      338.70  28.11  4526583  69.97\n",
            "4     Brazil     1106.02  19.51  5757197  76.79\n"
          ]
        }
      ]
    },
    {
      "cell_type": "code",
      "source": [
        "df1=df.drop(columns=['combined'])\n",
        "print(df1.head())"
      ],
      "metadata": {
        "colab": {
          "base_uri": "https://localhost:8080/"
        },
        "id": "MNzboZHIwrOa",
        "outputId": "9a5664ad-e1e4-4718-f737-3f751b9acab6"
      },
      "execution_count": null,
      "outputs": [
        {
          "output_type": "stream",
          "name": "stdout",
          "text": [
            "     country  population    gdp     land    age\n",
            "0  Argentina      960.94  11.23   242619  78.88\n",
            "1  Australia       42.39   6.44  1971859  77.25\n",
            "2    Austria      416.17   8.16  9058867  77.82\n",
            "3    Belgium      338.70  28.11  4526583  69.97\n",
            "4     Brazil     1106.02  19.51  5757197  76.79\n"
          ]
        }
      ]
    },
    {
      "cell_type": "code",
      "source": [
        "df2=df1.drop(columns=['internet','age'])\n",
        "print(df2.head())"
      ],
      "metadata": {
        "colab": {
          "base_uri": "https://localhost:8080/"
        },
        "id": "uwT8rgbM29ea",
        "outputId": "ef20755b-a63b-4a11-a36b-0244a85f0f6c"
      },
      "execution_count": null,
      "outputs": [
        {
          "output_type": "stream",
          "name": "stdout",
          "text": [
            "     country  population    gdp     land\n",
            "0  Argentina      960.94  11.23   242619\n",
            "1  Australia       42.39   6.44  1971859\n",
            "2    Austria      416.17   8.16  9058867\n",
            "3    Belgium      338.70  28.11  4526583\n",
            "4     Brazil     1106.02  19.51  5757197\n"
          ]
        }
      ]
    },
    {
      "cell_type": "code",
      "source": [
        "print(df.country.describe())"
      ],
      "metadata": {
        "colab": {
          "base_uri": "https://localhost:8080/"
        },
        "id": "QcAG-hA7rMco",
        "outputId": "a44f1dcb-ab57-42ee-d9d1-0ab641520cea"
      },
      "execution_count": null,
      "outputs": [
        {
          "output_type": "stream",
          "name": "stdout",
          "text": [
            "count            50\n",
            "unique           47\n",
            "top       Argentina\n",
            "freq              2\n",
            "Name: country, dtype: object\n"
          ]
        }
      ]
    },
    {
      "cell_type": "code",
      "source": [
        "print(df.land.describe())"
      ],
      "metadata": {
        "colab": {
          "base_uri": "https://localhost:8080/"
        },
        "id": "E7-phBZXtpfr",
        "outputId": "8613ce89-ea16-4712-abad-7bd1e5878e7a"
      },
      "execution_count": null,
      "outputs": [
        {
          "output_type": "stream",
          "name": "stdout",
          "text": [
            "count    5.000000e+01\n",
            "mean     4.891618e+06\n",
            "std      3.055146e+06\n",
            "min      5.959400e+04\n",
            "25%      2.170946e+06\n",
            "50%      4.511748e+06\n",
            "75%      8.158653e+06\n",
            "max      9.568669e+06\n",
            "Name: land, dtype: float64\n"
          ]
        }
      ]
    },
    {
      "cell_type": "code",
      "source": [
        "print(df[['country','population']])"
      ],
      "metadata": {
        "colab": {
          "base_uri": "https://localhost:8080/"
        },
        "id": "oA5AnSYZuMvI",
        "outputId": "2d8652ad-7491-4c88-cdb5-1aeb0ce43c64"
      },
      "execution_count": null,
      "outputs": [
        {
          "output_type": "stream",
          "name": "stdout",
          "text": [
            "                 country  population\n",
            "0              Argentina      960.94\n",
            "1              Australia       42.39\n",
            "2                Austria      416.17\n",
            "3                Belgium      338.70\n",
            "4                 Brazil     1106.02\n",
            "5                 Canada     1016.67\n",
            "6                  China     1338.81\n",
            "7               Colombia      134.97\n",
            "8                Denmark      635.77\n",
            "9                  Egypt       49.55\n",
            "10               Finland      331.86\n",
            "11                France      760.51\n",
            "12               Germany       44.67\n",
            "13                Greece      302.26\n",
            "14                 India      976.58\n",
            "15             Indonesia      819.69\n",
            "16               Ireland      334.56\n",
            "17                 Italy      885.95\n",
            "18                 Japan     1215.10\n",
            "19              Malaysia       14.72\n",
            "20                Mexico     1209.70\n",
            "21           Netherlands     1048.72\n",
            "22               Nigeria      513.67\n",
            "23                Norway      237.44\n",
            "24              Pakistan     1436.03\n",
            "25           Philippines      508.21\n",
            "26                Russia      143.66\n",
            "27           South Korea      149.59\n",
            "28                 Spain     1272.00\n",
            "29         United States      907.57\n",
            "30            Bangladesh     1211.66\n",
            "31               Vietnam     1095.95\n",
            "32                Turkey      806.66\n",
            "33          South Africa     1459.81\n",
            "34              Thailand      570.91\n",
            "35               Ukraine      830.30\n",
            "36                Poland     1244.96\n",
            "37          Saudi Arabia      929.69\n",
            "38             Argentina     1293.25\n",
            "39                Sweden      868.14\n",
            "40           Switzerland     1058.33\n",
            "41               Belgium       73.51\n",
            "42  United Arab Emirates      345.71\n",
            "43                Taiwan      437.64\n",
            "44              Malaysia      124.29\n",
            "45             Singapore      353.02\n",
            "46             Hong Kong      156.00\n",
            "47                 Chile      420.57\n",
            "48                  Peru      955.35\n",
            "49           New Zealand      550.42\n"
          ]
        }
      ]
    },
    {
      "cell_type": "code",
      "source": [
        "filtered_df = df[(df['country'].str.startswith('S')) & (df['population'] > 500)]\n",
        "print(filtered_df)"
      ],
      "metadata": {
        "colab": {
          "base_uri": "https://localhost:8080/"
        },
        "id": "hAkOxTMpxZIU",
        "outputId": "7aa6f305-80da-43d5-8030-305fa96291bc"
      },
      "execution_count": null,
      "outputs": [
        {
          "output_type": "stream",
          "name": "stdout",
          "text": [
            "         country  population    gdp     land    age  internet\n",
            "28         Spain     1272.00   8.09  1926828  70.18     42.76\n",
            "33  South Africa     1459.81  26.96  4091154  81.60     67.93\n",
            "37  Saudi Arabia      929.69  15.38  8203566  61.52     87.40\n",
            "39        Sweden      868.14   1.60  8987326  80.01     91.79\n",
            "40   Switzerland     1058.33   3.47  2159911  62.73     71.33\n"
          ]
        }
      ]
    },
    {
      "cell_type": "code",
      "source": [
        "filtered_df_drop_internet=filtered_df.drop(columns=['internet'])\n",
        "print(filtered_df_drop_internet)"
      ],
      "metadata": {
        "colab": {
          "base_uri": "https://localhost:8080/"
        },
        "id": "kndxROZvxZE6",
        "outputId": "924635b1-b897-4cf9-f121-3a5f16781b19"
      },
      "execution_count": null,
      "outputs": [
        {
          "output_type": "stream",
          "name": "stdout",
          "text": [
            "         country  population    gdp     land    age\n",
            "28         Spain     1272.00   8.09  1926828  70.18\n",
            "33  South Africa     1459.81  26.96  4091154  81.60\n",
            "37  Saudi Arabia      929.69  15.38  8203566  61.52\n",
            "39        Sweden      868.14   1.60  8987326  80.01\n",
            "40   Switzerland     1058.33   3.47  2159911  62.73\n"
          ]
        }
      ]
    },
    {
      "cell_type": "code",
      "source": [],
      "metadata": {
        "id": "Ypb8zBCwxZCH"
      },
      "execution_count": null,
      "outputs": []
    },
    {
      "cell_type": "code",
      "source": [
        "df_a=df[df.iloc[:,0].str.startswith('A')]\n",
        "print(df_a)"
      ],
      "metadata": {
        "colab": {
          "base_uri": "https://localhost:8080/"
        },
        "id": "Yoi-7aretkRr",
        "outputId": "c42bc4a7-ba33-48b4-c096-6b2bb42fc81f"
      },
      "execution_count": null,
      "outputs": [
        {
          "output_type": "stream",
          "name": "stdout",
          "text": [
            "      country  population    gdp     land    age  internet\n",
            "0   Argentina      960.94  11.23   242619  78.88     45.38\n",
            "1   Australia       42.39   6.44  1971859  77.25     75.87\n",
            "2     Austria      416.17   8.16  9058867  77.82     69.73\n",
            "38  Argentina     1293.25   2.91  1211193  78.21     62.21\n"
          ]
        }
      ]
    },
    {
      "cell_type": "code",
      "source": [
        "print(df.head())"
      ],
      "metadata": {
        "colab": {
          "base_uri": "https://localhost:8080/"
        },
        "id": "Z99LqpT6tAKd",
        "outputId": "fa8e7efb-d7f1-48c8-86c7-4f3a32cc65f9"
      },
      "execution_count": null,
      "outputs": [
        {
          "output_type": "stream",
          "name": "stdout",
          "text": [
            "     country  population    gdp     land    age  internet\n",
            "0  Argentina      960.94  11.23   242619  78.88     45.38\n",
            "1  Australia       42.39   6.44  1971859  77.25     75.87\n",
            "2    Austria      416.17   8.16  9058867  77.82     69.73\n",
            "3    Belgium      338.70  28.11  4526583  69.97     40.81\n",
            "4     Brazil     1106.02  19.51  5757197  76.79     45.13\n"
          ]
        }
      ]
    },
    {
      "cell_type": "markdown",
      "source": [],
      "metadata": {
        "id": "E0Z2IArzt0W8"
      }
    },
    {
      "cell_type": "code",
      "source": [
        "print(df.iloc[2,:])\n",
        "print (df.head())"
      ],
      "metadata": {
        "colab": {
          "base_uri": "https://localhost:8080/"
        },
        "id": "KgcMEHwHuy0j",
        "outputId": "79031c78-615c-4f85-d19c-4b2b6663bad2"
      },
      "execution_count": null,
      "outputs": [
        {
          "output_type": "stream",
          "name": "stdout",
          "text": [
            "country       Austria\n",
            "population     416.17\n",
            "gdp              8.16\n",
            "land          9058867\n",
            "age             77.82\n",
            "internet        69.73\n",
            "Name: 2, dtype: object\n",
            "     country  population    gdp     land    age  internet\n",
            "0  Argentina      960.94  11.23   242619  78.88     45.38\n",
            "1  Australia       42.39   6.44  1971859  77.25     75.87\n",
            "2    Austria      416.17   8.16  9058867  77.82     69.73\n",
            "3    Belgium      338.70  28.11  4526583  69.97     40.81\n",
            "4     Brazil     1106.02  19.51  5757197  76.79     45.13\n"
          ]
        }
      ]
    },
    {
      "cell_type": "code",
      "source": [
        "print(df.head())\n",
        "\n",
        "df=df[df['population']>1000]\n",
        "print(df.head())"
      ],
      "metadata": {
        "colab": {
          "base_uri": "https://localhost:8080/"
        },
        "id": "FazN7Ck9v83h",
        "outputId": "f2f9904c-b01b-498d-994c-b9063e42f4f8"
      },
      "execution_count": null,
      "outputs": [
        {
          "output_type": "stream",
          "name": "stdout",
          "text": [
            "     country  population    gdp     land    age  internet\n",
            "0  Argentina      960.94  11.23   242619  78.88     45.38\n",
            "1  Australia       42.39   6.44  1971859  77.25     75.87\n",
            "2    Austria      416.17   8.16  9058867  77.82     69.73\n",
            "3    Belgium      338.70  28.11  4526583  69.97     40.81\n",
            "4     Brazil     1106.02  19.51  5757197  76.79     45.13\n",
            "   country  population    gdp     land    age  internet\n",
            "4   Brazil     1106.02  19.51  5757197  76.79     45.13\n",
            "5   Canada     1016.67  18.35  1921534  69.34     81.45\n",
            "6    China     1338.81   5.30  4974115  82.49     53.00\n",
            "18   Japan     1215.10   9.60  3387174  68.26     80.18\n",
            "20  Mexico     1209.70   6.49  6323233  66.96     76.40\n"
          ]
        }
      ]
    },
    {
      "cell_type": "code",
      "source": [
        "print(df.head())"
      ],
      "metadata": {
        "colab": {
          "base_uri": "https://localhost:8080/"
        },
        "id": "k9dXI18nnAOF",
        "outputId": "7fcb541a-6bb1-4e11-972a-a7788621d090"
      },
      "execution_count": null,
      "outputs": [
        {
          "output_type": "stream",
          "name": "stdout",
          "text": [
            "           A        B      C        D      E      F\n",
            "0  Argentina   960.94  11.23   242619  78.88  45.38\n",
            "1  Australia    42.39   6.44  1971859  77.25  75.87\n",
            "2    Austria   416.17   8.16  9058867  77.82  69.73\n",
            "3    Belgium   338.70  28.11  4526583  69.97  40.81\n",
            "4     Brazil  1106.02  19.51  5757197  76.79  45.13\n"
          ]
        }
      ]
    },
    {
      "cell_type": "code",
      "source": [
        "print(df.B.tail())"
      ],
      "metadata": {
        "colab": {
          "base_uri": "https://localhost:8080/"
        },
        "id": "kfPe5dsNnl2_",
        "outputId": "a9db6038-57c4-4737-d42f-bf0f29d532c1"
      },
      "execution_count": null,
      "outputs": [
        {
          "output_type": "stream",
          "name": "stdout",
          "text": [
            "45     8848.32\n",
            "46     5696.00\n",
            "47     9929.12\n",
            "48    18485.60\n",
            "49    12006.72\n",
            "Name: B, dtype: float64\n"
          ]
        }
      ]
    },
    {
      "cell_type": "code",
      "source": [
        "df.B=df.B.apply(lambda x: x-100)\n",
        "print (df.B.head())"
      ],
      "metadata": {
        "colab": {
          "base_uri": "https://localhost:8080/"
        },
        "id": "jCkwhc9anPyp",
        "outputId": "1a1ff343-93e7-4b7f-adfc-62b79d472f63"
      },
      "execution_count": null,
      "outputs": [
        {
          "output_type": "stream",
          "name": "stdout",
          "text": [
            "0    18475.04\n",
            "1     3778.24\n",
            "2     9758.72\n",
            "3     8519.20\n",
            "4    20796.32\n",
            "Name: B, dtype: float64\n"
          ]
        }
      ]
    },
    {
      "cell_type": "code",
      "source": [
        "df2=df"
      ],
      "metadata": {
        "id": "8ziQ9yB0n50n"
      },
      "execution_count": null,
      "outputs": []
    },
    {
      "cell_type": "code",
      "source": [
        "df2.B=df2.B.apply(lambda x: x+300)\n",
        "print(df.B.head())"
      ],
      "metadata": {
        "colab": {
          "base_uri": "https://localhost:8080/"
        },
        "id": "FTWr_qlMnwwS",
        "outputId": "dca82026-b0f1-42dd-c2b2-003e71d09deb"
      },
      "execution_count": null,
      "outputs": [
        {
          "output_type": "stream",
          "name": "stdout",
          "text": [
            "0    1160.94\n",
            "1     242.39\n",
            "2     616.17\n",
            "3     538.70\n",
            "4    1306.02\n",
            "Name: B, dtype: float64\n"
          ]
        }
      ]
    },
    {
      "cell_type": "code",
      "source": [
        "df2.B=df2.B.apply(lambda x: x *2)\n",
        "print(df2.B.describe())\n",
        "print(df2.B.shape)\n"
      ],
      "metadata": {
        "colab": {
          "base_uri": "https://localhost:8080/"
        },
        "id": "2DRe5pd0oB8l",
        "outputId": "789d1589-5d28-425e-a67d-a3af2306d1a2"
      },
      "execution_count": null,
      "outputs": [
        {
          "output_type": "stream",
          "name": "stdout",
          "text": [
            "count       50.000000\n",
            "mean     14060.368000\n",
            "std       7015.462558\n",
            "min       3435.520000\n",
            "25%       8520.560000\n",
            "50%      14370.240000\n",
            "75%      19851.320000\n",
            "max      26556.960000\n",
            "Name: B, dtype: float64\n",
            "(50,)\n"
          ]
        }
      ]
    },
    {
      "cell_type": "code",
      "source": [
        "!apt-get install jq\n"
      ],
      "metadata": {
        "colab": {
          "base_uri": "https://localhost:8080/"
        },
        "id": "1RFqzbj9P8Ga",
        "outputId": "a614bc64-4ad5-4f88-f0a6-b68031d21905"
      },
      "execution_count": null,
      "outputs": [
        {
          "output_type": "stream",
          "name": "stdout",
          "text": [
            "Reading package lists... Done\n",
            "Building dependency tree... Done\n",
            "Reading state information... Done\n",
            "The following additional packages will be installed:\n",
            "  libjq1 libonig5\n",
            "The following NEW packages will be installed:\n",
            "  jq libjq1 libonig5\n",
            "0 upgraded, 3 newly installed, 0 to remove and 20 not upgraded.\n",
            "Need to get 357 kB of archives.\n",
            "After this operation, 1,087 kB of additional disk space will be used.\n",
            "Get:1 http://archive.ubuntu.com/ubuntu jammy/main amd64 libonig5 amd64 6.9.7.1-2build1 [172 kB]\n",
            "Get:2 http://archive.ubuntu.com/ubuntu jammy/main amd64 libjq1 amd64 1.6-2.1ubuntu3 [133 kB]\n",
            "Get:3 http://archive.ubuntu.com/ubuntu jammy/main amd64 jq amd64 1.6-2.1ubuntu3 [52.5 kB]\n",
            "Fetched 357 kB in 1s (365 kB/s)\n",
            "Selecting previously unselected package libonig5:amd64.\n",
            "(Reading database ... 124926 files and directories currently installed.)\n",
            "Preparing to unpack .../libonig5_6.9.7.1-2build1_amd64.deb ...\n",
            "Unpacking libonig5:amd64 (6.9.7.1-2build1) ...\n",
            "Selecting previously unselected package libjq1:amd64.\n",
            "Preparing to unpack .../libjq1_1.6-2.1ubuntu3_amd64.deb ...\n",
            "Unpacking libjq1:amd64 (1.6-2.1ubuntu3) ...\n",
            "Selecting previously unselected package jq.\n",
            "Preparing to unpack .../jq_1.6-2.1ubuntu3_amd64.deb ...\n",
            "Unpacking jq (1.6-2.1ubuntu3) ...\n",
            "Setting up libonig5:amd64 (6.9.7.1-2build1) ...\n",
            "Setting up libjq1:amd64 (1.6-2.1ubuntu3) ...\n",
            "Setting up jq (1.6-2.1ubuntu3) ...\n",
            "Processing triggers for man-db (2.10.2-1) ...\n",
            "Processing triggers for libc-bin (2.35-0ubuntu3.8) ...\n",
            "/sbin/ldconfig.real: /usr/local/lib/libtbbbind_2_0.so.3 is not a symbolic link\n",
            "\n",
            "/sbin/ldconfig.real: /usr/local/lib/libtcm_debug.so.1 is not a symbolic link\n",
            "\n",
            "/sbin/ldconfig.real: /usr/local/lib/libur_adapter_opencl.so.0 is not a symbolic link\n",
            "\n",
            "/sbin/ldconfig.real: /usr/local/lib/libtbbmalloc.so.2 is not a symbolic link\n",
            "\n",
            "/sbin/ldconfig.real: /usr/local/lib/libumf.so.0 is not a symbolic link\n",
            "\n",
            "/sbin/ldconfig.real: /usr/local/lib/libtcm.so.1 is not a symbolic link\n",
            "\n",
            "/sbin/ldconfig.real: /usr/local/lib/libtbbmalloc_proxy.so.2 is not a symbolic link\n",
            "\n",
            "/sbin/ldconfig.real: /usr/local/lib/libhwloc.so.15 is not a symbolic link\n",
            "\n",
            "/sbin/ldconfig.real: /usr/local/lib/libtbb.so.12 is not a symbolic link\n",
            "\n",
            "/sbin/ldconfig.real: /usr/local/lib/libur_adapter_level_zero.so.0 is not a symbolic link\n",
            "\n",
            "/sbin/ldconfig.real: /usr/local/lib/libtbbbind_2_5.so.3 is not a symbolic link\n",
            "\n",
            "/sbin/ldconfig.real: /usr/local/lib/libur_loader.so.0 is not a symbolic link\n",
            "\n",
            "/sbin/ldconfig.real: /usr/local/lib/libtbbbind.so.3 is not a symbolic link\n",
            "\n"
          ]
        }
      ]
    },
    {
      "cell_type": "code",
      "source": [
        "!curl -s https://pokeapi.co/api/v2/pokemon/pikachu | jq '.abilities'\n"
      ],
      "metadata": {
        "colab": {
          "base_uri": "https://localhost:8080/"
        },
        "id": "AHoqkynZQR67",
        "outputId": "5c919429-4ea1-4862-d220-eae832c8c22e"
      },
      "execution_count": null,
      "outputs": [
        {
          "output_type": "stream",
          "name": "stdout",
          "text": [
            "\u001b[1;39m[\n",
            "  \u001b[1;39m{\n",
            "    \u001b[0m\u001b[34;1m\"ability\"\u001b[0m\u001b[1;39m: \u001b[0m\u001b[1;39m{\n",
            "      \u001b[0m\u001b[34;1m\"name\"\u001b[0m\u001b[1;39m: \u001b[0m\u001b[0;32m\"static\"\u001b[0m\u001b[1;39m,\n",
            "      \u001b[0m\u001b[34;1m\"url\"\u001b[0m\u001b[1;39m: \u001b[0m\u001b[0;32m\"https://pokeapi.co/api/v2/ability/9/\"\u001b[0m\u001b[1;39m\n",
            "    \u001b[1;39m}\u001b[0m\u001b[1;39m,\n",
            "    \u001b[0m\u001b[34;1m\"is_hidden\"\u001b[0m\u001b[1;39m: \u001b[0m\u001b[0;39mfalse\u001b[0m\u001b[1;39m,\n",
            "    \u001b[0m\u001b[34;1m\"slot\"\u001b[0m\u001b[1;39m: \u001b[0m\u001b[0;39m1\u001b[0m\u001b[1;39m\n",
            "  \u001b[1;39m}\u001b[0m\u001b[1;39m,\n",
            "  \u001b[1;39m{\n",
            "    \u001b[0m\u001b[34;1m\"ability\"\u001b[0m\u001b[1;39m: \u001b[0m\u001b[1;39m{\n",
            "      \u001b[0m\u001b[34;1m\"name\"\u001b[0m\u001b[1;39m: \u001b[0m\u001b[0;32m\"lightning-rod\"\u001b[0m\u001b[1;39m,\n",
            "      \u001b[0m\u001b[34;1m\"url\"\u001b[0m\u001b[1;39m: \u001b[0m\u001b[0;32m\"https://pokeapi.co/api/v2/ability/31/\"\u001b[0m\u001b[1;39m\n",
            "    \u001b[1;39m}\u001b[0m\u001b[1;39m,\n",
            "    \u001b[0m\u001b[34;1m\"is_hidden\"\u001b[0m\u001b[1;39m: \u001b[0m\u001b[0;39mtrue\u001b[0m\u001b[1;39m,\n",
            "    \u001b[0m\u001b[34;1m\"slot\"\u001b[0m\u001b[1;39m: \u001b[0m\u001b[0;39m3\u001b[0m\u001b[1;39m\n",
            "  \u001b[1;39m}\u001b[0m\u001b[1;39m\n",
            "\u001b[1;39m]\u001b[0m\n"
          ]
        }
      ]
    },
    {
      "cell_type": "code",
      "source": [],
      "metadata": {
        "id": "7sb6BOq9NYAq"
      },
      "execution_count": null,
      "outputs": []
    },
    {
      "cell_type": "code",
      "source": [
        "import requests\n",
        "\n",
        "def fetch_pokemon_names():\n",
        "    \"\"\"Generator function to yield Pokémon names from the API\"\"\"\n",
        "    url = \"https://pokeapi.co/api/v2/pokemon?limit=2000\"\n",
        "    response = requests.get(url)\n",
        "\n",
        "    if response.status_code == 200:\n",
        "        data = response.json()\n",
        "        for pokemon in data['results']:  # Iterate over results\n",
        "            yield pokemon['name']  # Yield one name at a time\n",
        "    else:\n",
        "        yield \"Failed to fetch data from PokeAPI\"\n",
        "\n",
        "# Using the generator\n",
        "pokemon_generator = fetch_pokemon_names()\n",
        "\n",
        "# Example: Print first 10 Pokémon names\n",
        "print(\"Available Pokémon names:\")\n",
        "for i, name in enumerate(pokemon_generator):\n",
        "    if i >= 10:  # Stop after 10 names for demonstration\n",
        "        break\n",
        "    print(name)\n"
      ],
      "metadata": {
        "colab": {
          "base_uri": "https://localhost:8080/"
        },
        "id": "poFjyF2vMHJy",
        "outputId": "de1b1166-c883-4948-f2c5-20b0d2c89848"
      },
      "execution_count": null,
      "outputs": [
        {
          "output_type": "stream",
          "name": "stdout",
          "text": [
            "Available Pokémon names:\n",
            "bulbasaur\n",
            "ivysaur\n",
            "venusaur\n",
            "charmander\n",
            "charmeleon\n",
            "charizard\n",
            "squirtle\n",
            "wartortle\n",
            "blastoise\n",
            "caterpie\n"
          ]
        }
      ]
    },
    {
      "cell_type": "code",
      "source": [
        "import requests\n",
        "\n",
        "def fetch_pokemon_batches(batch_size=10):\n",
        "    \"\"\"Generator function to yield Pokémon names in batches\"\"\"\n",
        "    url = \"https://pokeapi.co/api/v2/pokemon?limit=2000\"\n",
        "    response = requests.get(url)\n",
        "\n",
        "    if response.status_code == 200:\n",
        "        data = response.json()\n",
        "        pokemon_list = [pokemon['name'] for pokemon in data['results']]\n",
        "\n",
        "        # Yield batches of batch_size\n",
        "        for i in range(0, len(pokemon_list), batch_size):\n",
        "            yield pokemon_list[i:i + batch_size]  # Yield a batch of 10 Pokémon names\n",
        "    else:\n",
        "        yield [\"Failed to fetch data from PokeAPI\"]\n",
        "\n",
        "# Using the generator to fetch Pokémon in batches of 10\n",
        "pokemon_batch_generator = fetch_pokemon_batches(batch_size=10)\n",
        "\n",
        "# Example: Print the first 5 batches\n",
        "print(\"Available Pokémon names in batches of 10:\")\n",
        "for i, batch in enumerate(pokemon_batch_generator):\n",
        "    if i >= 5:  # Stop after 5 batches for demonstration\n",
        "        break\n",
        "    print(f\"Batch {i + 1}: {batch}\")\n"
      ],
      "metadata": {
        "id": "0z4s0HsBLv-J",
        "outputId": "8fea6983-4f86-4d9d-d579-8f4dbf12a3f3",
        "colab": {
          "base_uri": "https://localhost:8080/"
        }
      },
      "execution_count": null,
      "outputs": [
        {
          "output_type": "stream",
          "name": "stdout",
          "text": [
            "Available Pokémon names in batches of 10:\n",
            "Batch 1: ['bulbasaur', 'ivysaur', 'venusaur', 'charmander', 'charmeleon', 'charizard', 'squirtle', 'wartortle', 'blastoise', 'caterpie']\n",
            "Batch 2: ['metapod', 'butterfree', 'weedle', 'kakuna', 'beedrill', 'pidgey', 'pidgeotto', 'pidgeot', 'rattata', 'raticate']\n",
            "Batch 3: ['spearow', 'fearow', 'ekans', 'arbok', 'pikachu', 'raichu', 'sandshrew', 'sandslash', 'nidoran-f', 'nidorina']\n",
            "Batch 4: ['nidoqueen', 'nidoran-m', 'nidorino', 'nidoking', 'clefairy', 'clefable', 'vulpix', 'ninetales', 'jigglypuff', 'wigglytuff']\n",
            "Batch 5: ['zubat', 'golbat', 'oddish', 'gloom', 'vileplume', 'paras', 'parasect', 'venonat', 'venomoth', 'diglett']\n"
          ]
        }
      ]
    },
    {
      "cell_type": "code",
      "source": [
        "import requests\n",
        "\n",
        "api_base=a\n",
        "api_key=b\n",
        "client_id=c\n",
        "\n",
        "def get_domain():\n",
        "    url=f\"{api_base}/domains/{client_id}?api_key={api_key}\"\n",
        "    response = requests.get(url)\n",
        "    response.raise_for_status()\n",
        "    return response.json()\n",
        "\n",
        "def get_"
      ],
      "metadata": {
        "id": "o_WT1MFhHz5M"
      },
      "execution_count": null,
      "outputs": []
    }
  ]
}